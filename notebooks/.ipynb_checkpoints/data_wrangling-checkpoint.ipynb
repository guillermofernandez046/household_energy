{
 "cells": [
  {
   "cell_type": "markdown",
   "id": "a9df3c37-75ad-4deb-9be9-44b424d630e1",
   "metadata": {},
   "source": [
    "# importacion de librerias"
   ]
  },
  {
   "cell_type": "code",
   "execution_count": 1,
   "id": "11466bf7-3e5a-42a5-8728-41cb04f0dc25",
   "metadata": {},
   "outputs": [],
   "source": [
    "import pandas as pd"
   ]
  },
  {
   "cell_type": "code",
   "execution_count": 2,
   "id": "7194a207-5f16-4b63-8e2c-41babae1afb2",
   "metadata": {},
   "outputs": [],
   "source": [
    "base_hs = pd.read_csv('C:/Users/MyDELL/Desktop/msds/repositorio/household_energy/datasets/Energy_consumption_dataset.csv')"
   ]
  },
  {
   "cell_type": "code",
   "execution_count": 3,
   "id": "0b59460c-9865-4b97-8251-9db5ae3caacd",
   "metadata": {},
   "outputs": [
    {
     "name": "stdout",
     "output_type": "stream",
     "text": [
      "Archivo guardado en: C:/Users/MyDELL/Desktop/msds/repositorio/household_energy/datasets/en_hs_ml.csv\n"
     ]
    }
   ],
   "source": [
    "base_ml = base_hs.drop(columns=['Humidity'])\n",
    "\n",
    "# 2. Ruta personalizada donde guardar el archivo\n",
    "ruta_salida = 'C:/Users/MyDELL/Desktop/msds/repositorio/household_energy/datasets/en_hs_ml.csv' \n",
    "\n",
    "base_ml.to_csv(ruta_salida, index=False)\n",
    "\n",
    "print(f\"Archivo guardado en: {ruta_salida}\")"
   ]
  },
  {
   "cell_type": "code",
   "execution_count": null,
   "id": "7a8c29ed-49c2-4407-bb82-e301aa7295f6",
   "metadata": {},
   "outputs": [],
   "source": []
  }
 ],
 "metadata": {
  "kernelspec": {
   "display_name": "Python 3 (ipykernel)",
   "language": "python",
   "name": "python3"
  },
  "language_info": {
   "codemirror_mode": {
    "name": "ipython",
    "version": 3
   },
   "file_extension": ".py",
   "mimetype": "text/x-python",
   "name": "python",
   "nbconvert_exporter": "python",
   "pygments_lexer": "ipython3",
   "version": "3.12.4"
  }
 },
 "nbformat": 4,
 "nbformat_minor": 5
}
